{
  "nbformat": 4,
  "nbformat_minor": 0,
  "metadata": {
    "colab": {
      "provenance": [],
      "authorship_tag": "ABX9TyNAcz0MvZhkC2PIcEGZwTdH",
      "include_colab_link": true
    },
    "kernelspec": {
      "name": "python3",
      "display_name": "Python 3"
    },
    "language_info": {
      "name": "python"
    }
  },
  "cells": [
    {
      "cell_type": "markdown",
      "metadata": {
        "id": "view-in-github",
        "colab_type": "text"
      },
      "source": [
        "<a href=\"https://colab.research.google.com/github/abdinegara783/FindIT2023/blob/Experiment/FIND_IT_UGM_Main.ipynb\" target=\"_parent\"><img src=\"https://colab.research.google.com/assets/colab-badge.svg\" alt=\"Open In Colab\"/></a>"
      ]
    },
    {
      "cell_type": "markdown",
      "source": [
        "# Introduction"
      ],
      "metadata": {
        "id": "N3zase2rt1k-"
      }
    },
    {
      "cell_type": "markdown",
      "source": [
        "# Import Library/Package"
      ],
      "metadata": {
        "id": "rACmQ0BSt7p0"
      }
    },
    {
      "cell_type": "code",
      "source": [
        "import pandas as pd\n",
        "import numpy as np\n",
        "import matplotlib.pyplot as plt"
      ],
      "metadata": {
        "id": "ux6pFAZ335fa"
      },
      "execution_count": 5,
      "outputs": []
    },
    {
      "cell_type": "code",
      "source": [],
      "metadata": {
        "id": "8zsdb-YE4GPT"
      },
      "execution_count": null,
      "outputs": []
    },
    {
      "cell_type": "markdown",
      "source": [
        "#Import Dataset"
      ],
      "metadata": {
        "id": "lPrVN7IUupRn"
      }
    },
    {
      "cell_type": "markdown",
      "source": [
        "# EDA (Explanatory Data Analysis)"
      ],
      "metadata": {
        "id": "3v4R-vVduCmH"
      }
    },
    {
      "cell_type": "markdown",
      "source": [
        "# Feature Enginering"
      ],
      "metadata": {
        "id": "FoZ9fSnSuSby"
      }
    },
    {
      "cell_type": "markdown",
      "source": [
        "# Feature Selection"
      ],
      "metadata": {
        "id": "frH-4_q8uWcx"
      }
    },
    {
      "cell_type": "markdown",
      "source": [
        "# Modeling"
      ],
      "metadata": {
        "id": "ygqixao2uZ5S"
      }
    },
    {
      "cell_type": "markdown",
      "source": [
        "# Evaluating"
      ],
      "metadata": {
        "id": "wFw5QHwFucJG"
      }
    }
  ]
}
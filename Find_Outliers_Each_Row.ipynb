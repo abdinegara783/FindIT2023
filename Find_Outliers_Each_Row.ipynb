{
  "nbformat": 4,
  "nbformat_minor": 0,
  "metadata": {
    "colab": {
      "provenance": [],
      "authorship_tag": "ABX9TyN2qMC1rpX5dzvinKuCyF2f",
      "include_colab_link": true
    },
    "kernelspec": {
      "name": "python3",
      "display_name": "Python 3"
    },
    "language_info": {
      "name": "python"
    }
  },
  "cells": [
    {
      "cell_type": "markdown",
      "metadata": {
        "id": "view-in-github",
        "colab_type": "text"
      },
      "source": [
        "<a href=\"https://colab.research.google.com/github/abdinegara783/FindIT2023/blob/Experiment/Find_Outliers_Each_Row.ipynb\" target=\"_parent\"><img src=\"https://colab.research.google.com/assets/colab-badge.svg\" alt=\"Open In Colab\"/></a>"
      ]
    },
    {
      "cell_type": "code",
      "source": [
        "# Import library yang dibutuhkan\n",
        "from google.colab import drive\n",
        "import pandas as pd\n",
        "\n",
        "# Mount Google Drive\n",
        "drive.mount('/content/drive')\n",
        "\n",
        "# Set path to dataset\n",
        "path = '/content/drive/My Drive/FindIT/no_miss_value.csv'\n",
        "\n",
        "# Load dataset\n",
        "df = pd.read_csv(path)\n",
        "\n",
        "# Cari outlier untuk setiap atribut numerik\n",
        "numerical_cols = ['h1n1_concern', 'h1n1_knowledge', 'behavioral_antiviral_meds', \n",
        "                  'behavioral_avoidance', 'behavioral_face_mask', 'behavioral_wash_hands',\n",
        "                  'behavioral_large_gatherings', 'behavioral_outside_home', \n",
        "                  'behavioral_touch_face', 'opinion_h1n1_vacc_effective', \n",
        "                  'opinion_h1n1_risk', 'opinion_h1n1_sick_from_vacc', \n",
        "                  'opinion_seas_vacc_effective', 'opinion_seas_risk', \n",
        "                  'opinion_seas_sick_from_vacc']\n",
        "\n",
        "# Membuat dataframe baru untuk outlier\n",
        "outliers = pd.DataFrame(columns=df.columns)\n",
        "\n",
        "for col in numerical_cols:\n",
        "    q1 = df[col].quantile(0.25)\n",
        "    q3 = df[col].quantile(0.75)\n",
        "    iqr = q3 - q1\n",
        "    lower_bound = q1 - 1.5 * iqr\n",
        "    upper_bound = q3 + 1.5 * iqr\n",
        "    \n",
        "    # Cari baris yang memiliki outlier pada atribut col\n",
        "    outliers_col = df[(df[col] < lower_bound) | (df[col] > upper_bound)]\n",
        "    \n",
        "    # Tambahkan nama kolom yang mengandung outlier pada dataframe outliers\n",
        "    if not outliers_col.empty:\n",
        "      outliers_col['outlier_name'] = col\n",
        "      outliers = pd.concat([outliers, outliers_col], axis=0)\n",
        "\n",
        "# Menambahkan kolom baru 'banyaknya outlier'\n",
        "outliers_count = outliers.groupby('respondent_id').count()\n",
        "outliers_count = outliers_count[outliers_count['outlier_name'] > 0]\n",
        "outliers_count = outliers_count.reset_index()[['respondent_id', 'outlier_name']]\n",
        "outliers_count = outliers_count.rename(columns={'outlier_name': 'banyaknya_outlier'})\n",
        "outliers = pd.merge(outliers, outliers_count, on='respondent_id')\n",
        "\n",
        "# Simpan dataframe outliers ke dalam file CSV di Google Drive\n",
        "outliers.to_csv('/content/drive/My Drive/FindIT/outliers_final.csv', index=False)"
      ],
      "metadata": {
        "colab": {
          "base_uri": "https://localhost:8080/"
        },
        "id": "uXj-ovQeOb0j",
        "outputId": "8103d15b-f060-4420-8851-85398924ac89"
      },
      "execution_count": 2,
      "outputs": [
        {
          "output_type": "stream",
          "name": "stdout",
          "text": [
            "Drive already mounted at /content/drive; to attempt to forcibly remount, call drive.mount(\"/content/drive\", force_remount=True).\n"
          ]
        },
        {
          "output_type": "stream",
          "name": "stderr",
          "text": [
            "<ipython-input-2-79a10b730186>:38: SettingWithCopyWarning: \n",
            "A value is trying to be set on a copy of a slice from a DataFrame.\n",
            "Try using .loc[row_indexer,col_indexer] = value instead\n",
            "\n",
            "See the caveats in the documentation: https://pandas.pydata.org/pandas-docs/stable/user_guide/indexing.html#returning-a-view-versus-a-copy\n",
            "  outliers_col['outlier_name'] = col\n",
            "<ipython-input-2-79a10b730186>:38: SettingWithCopyWarning: \n",
            "A value is trying to be set on a copy of a slice from a DataFrame.\n",
            "Try using .loc[row_indexer,col_indexer] = value instead\n",
            "\n",
            "See the caveats in the documentation: https://pandas.pydata.org/pandas-docs/stable/user_guide/indexing.html#returning-a-view-versus-a-copy\n",
            "  outliers_col['outlier_name'] = col\n",
            "<ipython-input-2-79a10b730186>:38: SettingWithCopyWarning: \n",
            "A value is trying to be set on a copy of a slice from a DataFrame.\n",
            "Try using .loc[row_indexer,col_indexer] = value instead\n",
            "\n",
            "See the caveats in the documentation: https://pandas.pydata.org/pandas-docs/stable/user_guide/indexing.html#returning-a-view-versus-a-copy\n",
            "  outliers_col['outlier_name'] = col\n",
            "<ipython-input-2-79a10b730186>:38: SettingWithCopyWarning: \n",
            "A value is trying to be set on a copy of a slice from a DataFrame.\n",
            "Try using .loc[row_indexer,col_indexer] = value instead\n",
            "\n",
            "See the caveats in the documentation: https://pandas.pydata.org/pandas-docs/stable/user_guide/indexing.html#returning-a-view-versus-a-copy\n",
            "  outliers_col['outlier_name'] = col\n",
            "<ipython-input-2-79a10b730186>:38: SettingWithCopyWarning: \n",
            "A value is trying to be set on a copy of a slice from a DataFrame.\n",
            "Try using .loc[row_indexer,col_indexer] = value instead\n",
            "\n",
            "See the caveats in the documentation: https://pandas.pydata.org/pandas-docs/stable/user_guide/indexing.html#returning-a-view-versus-a-copy\n",
            "  outliers_col['outlier_name'] = col\n"
          ]
        }
      ]
    }
  ]
}
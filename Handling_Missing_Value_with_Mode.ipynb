{
  "nbformat": 4,
  "nbformat_minor": 0,
  "metadata": {
    "colab": {
      "provenance": [],
      "authorship_tag": "ABX9TyN2WsVTjSTQergWrStN0CmZ",
      "include_colab_link": true
    },
    "kernelspec": {
      "name": "python3",
      "display_name": "Python 3"
    },
    "language_info": {
      "name": "python"
    }
  },
  "cells": [
    {
      "cell_type": "markdown",
      "metadata": {
        "id": "view-in-github",
        "colab_type": "text"
      },
      "source": [
        "<a href=\"https://colab.research.google.com/github/abdinegara783/FindIT2023/blob/Experiment/Handling_Missing_Value_with_Mode.ipynb\" target=\"_parent\"><img src=\"https://colab.research.google.com/assets/colab-badge.svg\" alt=\"Open In Colab\"/></a>"
      ]
    },
    {
      "cell_type": "code",
      "execution_count": 2,
      "metadata": {
        "colab": {
          "base_uri": "https://localhost:8080/"
        },
        "id": "5GB4qxTy-nd5",
        "outputId": "1ef0eb52-aa49-4550-8d00-c9c26030f254"
      },
      "outputs": [
        {
          "output_type": "stream",
          "name": "stdout",
          "text": [
            "Drive already mounted at /content/drive; to attempt to forcibly remount, call drive.mount(\"/content/drive\", force_remount=True).\n"
          ]
        }
      ],
      "source": [
        "# Import library yang dibutuhkan\n",
        "from google.colab import drive\n",
        "import pandas as pd\n",
        "\n",
        "# Mount Google Drive\n",
        "drive.mount('/content/drive')\n",
        "\n",
        "# Set path to dataset\n",
        "path = '/content/drive/My Drive/FindIT/training_set_features_1.csv'\n",
        "\n",
        "# Load dataset\n",
        "df = pd.read_csv(path)\n",
        "\n",
        "# Fill missing value with mode\n",
        "df.fillna(df1.mode().iloc[0], inplace=True)\n",
        "\n",
        "# Save dataset with no missing value\n",
        "df.to_csv('/content/drive/My Drive/FindIT/no_miss_value.csv', index=False)"
      ]
    }
  ]
}
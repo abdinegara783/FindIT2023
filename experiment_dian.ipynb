{
  "nbformat": 4,
  "nbformat_minor": 0,
  "metadata": {
    "colab": {
      "provenance": [],
      "include_colab_link": true
    },
    "kernelspec": {
      "name": "python3",
      "display_name": "Python 3"
    },
    "language_info": {
      "name": "python"
    },
    "accelerator": "GPU",
    "gpuClass": "standard"
  },
  "cells": [
    {
      "cell_type": "markdown",
      "metadata": {
        "id": "view-in-github",
        "colab_type": "text"
      },
      "source": [
        "<a href=\"https://colab.research.google.com/github/abdinegara783/FindIT2023/blob/Experiment/experiment_dian.ipynb\" target=\"_parent\"><img src=\"https://colab.research.google.com/assets/colab-badge.svg\" alt=\"Open In Colab\"/></a>"
      ]
    },
    {
      "cell_type": "markdown",
      "source": [
        "# Introduction"
      ],
      "metadata": {
        "id": "N3zase2rt1k-"
      }
    },
    {
      "cell_type": "markdown",
      "source": [
        "# Import Library/Package"
      ],
      "metadata": {
        "id": "rACmQ0BSt7p0"
      }
    },
    {
      "cell_type": "code",
      "source": [
        "import pandas as pd\n",
        "import numpy as np\n",
        "import matplotlib.pyplot as plt\n",
        "import seaborn as sns"
      ],
      "metadata": {
        "id": "ux6pFAZ335fa"
      },
      "execution_count": 4,
      "outputs": []
    },
    {
      "cell_type": "markdown",
      "source": [
        "#Import Dataset"
      ],
      "metadata": {
        "id": "lPrVN7IUupRn"
      }
    },
    {
      "cell_type": "code",
      "source": [
        "#Path from Dataset\n",
        "TrainingFeatures_path='/content/drive/MyDrive/FindIT/training_set_features.csv'\n",
        "TrainingLabels_path='/content/drive/MyDrive/FindIT/training_set_labels.csv'"
      ],
      "metadata": {
        "id": "81ghRnRG5LtL"
      },
      "execution_count": 8,
      "outputs": []
    },
    {
      "cell_type": "markdown",
      "source": [
        "##Preprocessing TrainingFeatue_path"
      ],
      "metadata": {
        "id": "D2ymQc8Z-nhX"
      }
    },
    {
      "cell_type": "code",
      "source": [
        "# Membaca file CSV sebagai DataFrame\n",
        "#Reading the TrainingFeatures CSV file as DataFrame\n",
        "df_TrainingFeatures = pd.read_csv(TrainingFeatures_path)\n",
        "\n",
        "\n",
        "# shows 5 first row from DataFrame\n",
        "df_TrainingFeatures.head()"
      ],
      "metadata": {
        "colab": {
          "base_uri": "https://localhost:8080/",
          "height": 395
        },
        "id": "ibS3Ne1H6JSY",
        "outputId": "42b455d8-6c43-4fd8-c52d-c0abf477b5de"
      },
      "execution_count": 9,
      "outputs": [
        {
          "output_type": "error",
          "ename": "FileNotFoundError",
          "evalue": "ignored",
          "traceback": [
            "\u001b[0;31m---------------------------------------------------------------------------\u001b[0m",
            "\u001b[0;31mFileNotFoundError\u001b[0m                         Traceback (most recent call last)",
            "\u001b[0;32m<ipython-input-9-125a68660f30>\u001b[0m in \u001b[0;36m<cell line: 3>\u001b[0;34m()\u001b[0m\n\u001b[1;32m      1\u001b[0m \u001b[0;31m# Membaca file CSV sebagai DataFrame\u001b[0m\u001b[0;34m\u001b[0m\u001b[0;34m\u001b[0m\u001b[0m\n\u001b[1;32m      2\u001b[0m \u001b[0;31m#Reading the TrainingFeatures CSV file as DataFrame\u001b[0m\u001b[0;34m\u001b[0m\u001b[0;34m\u001b[0m\u001b[0m\n\u001b[0;32m----> 3\u001b[0;31m \u001b[0mdf_TrainingFeatures\u001b[0m \u001b[0;34m=\u001b[0m \u001b[0mpd\u001b[0m\u001b[0;34m.\u001b[0m\u001b[0mread_csv\u001b[0m\u001b[0;34m(\u001b[0m\u001b[0mTrainingFeatures_path\u001b[0m\u001b[0;34m)\u001b[0m\u001b[0;34m\u001b[0m\u001b[0;34m\u001b[0m\u001b[0m\n\u001b[0m\u001b[1;32m      4\u001b[0m \u001b[0;34m\u001b[0m\u001b[0m\n\u001b[1;32m      5\u001b[0m \u001b[0;34m\u001b[0m\u001b[0m\n",
            "\u001b[0;32m/usr/local/lib/python3.10/dist-packages/pandas/util/_decorators.py\u001b[0m in \u001b[0;36mwrapper\u001b[0;34m(*args, **kwargs)\u001b[0m\n\u001b[1;32m    209\u001b[0m                 \u001b[0;32melse\u001b[0m\u001b[0;34m:\u001b[0m\u001b[0;34m\u001b[0m\u001b[0;34m\u001b[0m\u001b[0m\n\u001b[1;32m    210\u001b[0m                     \u001b[0mkwargs\u001b[0m\u001b[0;34m[\u001b[0m\u001b[0mnew_arg_name\u001b[0m\u001b[0;34m]\u001b[0m \u001b[0;34m=\u001b[0m \u001b[0mnew_arg_value\u001b[0m\u001b[0;34m\u001b[0m\u001b[0;34m\u001b[0m\u001b[0m\n\u001b[0;32m--> 211\u001b[0;31m             \u001b[0;32mreturn\u001b[0m \u001b[0mfunc\u001b[0m\u001b[0;34m(\u001b[0m\u001b[0;34m*\u001b[0m\u001b[0margs\u001b[0m\u001b[0;34m,\u001b[0m \u001b[0;34m**\u001b[0m\u001b[0mkwargs\u001b[0m\u001b[0;34m)\u001b[0m\u001b[0;34m\u001b[0m\u001b[0;34m\u001b[0m\u001b[0m\n\u001b[0m\u001b[1;32m    212\u001b[0m \u001b[0;34m\u001b[0m\u001b[0m\n\u001b[1;32m    213\u001b[0m         \u001b[0;32mreturn\u001b[0m \u001b[0mcast\u001b[0m\u001b[0;34m(\u001b[0m\u001b[0mF\u001b[0m\u001b[0;34m,\u001b[0m \u001b[0mwrapper\u001b[0m\u001b[0;34m)\u001b[0m\u001b[0;34m\u001b[0m\u001b[0;34m\u001b[0m\u001b[0m\n",
            "\u001b[0;32m/usr/local/lib/python3.10/dist-packages/pandas/util/_decorators.py\u001b[0m in \u001b[0;36mwrapper\u001b[0;34m(*args, **kwargs)\u001b[0m\n\u001b[1;32m    329\u001b[0m                     \u001b[0mstacklevel\u001b[0m\u001b[0;34m=\u001b[0m\u001b[0mfind_stack_level\u001b[0m\u001b[0;34m(\u001b[0m\u001b[0;34m)\u001b[0m\u001b[0;34m,\u001b[0m\u001b[0;34m\u001b[0m\u001b[0;34m\u001b[0m\u001b[0m\n\u001b[1;32m    330\u001b[0m                 )\n\u001b[0;32m--> 331\u001b[0;31m             \u001b[0;32mreturn\u001b[0m \u001b[0mfunc\u001b[0m\u001b[0;34m(\u001b[0m\u001b[0;34m*\u001b[0m\u001b[0margs\u001b[0m\u001b[0;34m,\u001b[0m \u001b[0;34m**\u001b[0m\u001b[0mkwargs\u001b[0m\u001b[0;34m)\u001b[0m\u001b[0;34m\u001b[0m\u001b[0;34m\u001b[0m\u001b[0m\n\u001b[0m\u001b[1;32m    332\u001b[0m \u001b[0;34m\u001b[0m\u001b[0m\n\u001b[1;32m    333\u001b[0m         \u001b[0;31m# error: \"Callable[[VarArg(Any), KwArg(Any)], Any]\" has no\u001b[0m\u001b[0;34m\u001b[0m\u001b[0;34m\u001b[0m\u001b[0m\n",
            "\u001b[0;32m/usr/local/lib/python3.10/dist-packages/pandas/io/parsers/readers.py\u001b[0m in \u001b[0;36mread_csv\u001b[0;34m(filepath_or_buffer, sep, delimiter, header, names, index_col, usecols, squeeze, prefix, mangle_dupe_cols, dtype, engine, converters, true_values, false_values, skipinitialspace, skiprows, skipfooter, nrows, na_values, keep_default_na, na_filter, verbose, skip_blank_lines, parse_dates, infer_datetime_format, keep_date_col, date_parser, dayfirst, cache_dates, iterator, chunksize, compression, thousands, decimal, lineterminator, quotechar, quoting, doublequote, escapechar, comment, encoding, encoding_errors, dialect, error_bad_lines, warn_bad_lines, on_bad_lines, delim_whitespace, low_memory, memory_map, float_precision, storage_options)\u001b[0m\n\u001b[1;32m    948\u001b[0m     \u001b[0mkwds\u001b[0m\u001b[0;34m.\u001b[0m\u001b[0mupdate\u001b[0m\u001b[0;34m(\u001b[0m\u001b[0mkwds_defaults\u001b[0m\u001b[0;34m)\u001b[0m\u001b[0;34m\u001b[0m\u001b[0;34m\u001b[0m\u001b[0m\n\u001b[1;32m    949\u001b[0m \u001b[0;34m\u001b[0m\u001b[0m\n\u001b[0;32m--> 950\u001b[0;31m     \u001b[0;32mreturn\u001b[0m \u001b[0m_read\u001b[0m\u001b[0;34m(\u001b[0m\u001b[0mfilepath_or_buffer\u001b[0m\u001b[0;34m,\u001b[0m \u001b[0mkwds\u001b[0m\u001b[0;34m)\u001b[0m\u001b[0;34m\u001b[0m\u001b[0;34m\u001b[0m\u001b[0m\n\u001b[0m\u001b[1;32m    951\u001b[0m \u001b[0;34m\u001b[0m\u001b[0m\n\u001b[1;32m    952\u001b[0m \u001b[0;34m\u001b[0m\u001b[0m\n",
            "\u001b[0;32m/usr/local/lib/python3.10/dist-packages/pandas/io/parsers/readers.py\u001b[0m in \u001b[0;36m_read\u001b[0;34m(filepath_or_buffer, kwds)\u001b[0m\n\u001b[1;32m    603\u001b[0m \u001b[0;34m\u001b[0m\u001b[0m\n\u001b[1;32m    604\u001b[0m     \u001b[0;31m# Create the parser.\u001b[0m\u001b[0;34m\u001b[0m\u001b[0;34m\u001b[0m\u001b[0m\n\u001b[0;32m--> 605\u001b[0;31m     \u001b[0mparser\u001b[0m \u001b[0;34m=\u001b[0m \u001b[0mTextFileReader\u001b[0m\u001b[0;34m(\u001b[0m\u001b[0mfilepath_or_buffer\u001b[0m\u001b[0;34m,\u001b[0m \u001b[0;34m**\u001b[0m\u001b[0mkwds\u001b[0m\u001b[0;34m)\u001b[0m\u001b[0;34m\u001b[0m\u001b[0;34m\u001b[0m\u001b[0m\n\u001b[0m\u001b[1;32m    606\u001b[0m \u001b[0;34m\u001b[0m\u001b[0m\n\u001b[1;32m    607\u001b[0m     \u001b[0;32mif\u001b[0m \u001b[0mchunksize\u001b[0m \u001b[0;32mor\u001b[0m \u001b[0miterator\u001b[0m\u001b[0;34m:\u001b[0m\u001b[0;34m\u001b[0m\u001b[0;34m\u001b[0m\u001b[0m\n",
            "\u001b[0;32m/usr/local/lib/python3.10/dist-packages/pandas/io/parsers/readers.py\u001b[0m in \u001b[0;36m__init__\u001b[0;34m(self, f, engine, **kwds)\u001b[0m\n\u001b[1;32m   1440\u001b[0m \u001b[0;34m\u001b[0m\u001b[0m\n\u001b[1;32m   1441\u001b[0m         \u001b[0mself\u001b[0m\u001b[0;34m.\u001b[0m\u001b[0mhandles\u001b[0m\u001b[0;34m:\u001b[0m \u001b[0mIOHandles\u001b[0m \u001b[0;34m|\u001b[0m \u001b[0;32mNone\u001b[0m \u001b[0;34m=\u001b[0m \u001b[0;32mNone\u001b[0m\u001b[0;34m\u001b[0m\u001b[0;34m\u001b[0m\u001b[0m\n\u001b[0;32m-> 1442\u001b[0;31m         \u001b[0mself\u001b[0m\u001b[0;34m.\u001b[0m\u001b[0m_engine\u001b[0m \u001b[0;34m=\u001b[0m \u001b[0mself\u001b[0m\u001b[0;34m.\u001b[0m\u001b[0m_make_engine\u001b[0m\u001b[0;34m(\u001b[0m\u001b[0mf\u001b[0m\u001b[0;34m,\u001b[0m \u001b[0mself\u001b[0m\u001b[0;34m.\u001b[0m\u001b[0mengine\u001b[0m\u001b[0;34m)\u001b[0m\u001b[0;34m\u001b[0m\u001b[0;34m\u001b[0m\u001b[0m\n\u001b[0m\u001b[1;32m   1443\u001b[0m \u001b[0;34m\u001b[0m\u001b[0m\n\u001b[1;32m   1444\u001b[0m     \u001b[0;32mdef\u001b[0m \u001b[0mclose\u001b[0m\u001b[0;34m(\u001b[0m\u001b[0mself\u001b[0m\u001b[0;34m)\u001b[0m \u001b[0;34m->\u001b[0m \u001b[0;32mNone\u001b[0m\u001b[0;34m:\u001b[0m\u001b[0;34m\u001b[0m\u001b[0;34m\u001b[0m\u001b[0m\n",
            "\u001b[0;32m/usr/local/lib/python3.10/dist-packages/pandas/io/parsers/readers.py\u001b[0m in \u001b[0;36m_make_engine\u001b[0;34m(self, f, engine)\u001b[0m\n\u001b[1;32m   1733\u001b[0m                 \u001b[0;32mif\u001b[0m \u001b[0;34m\"b\"\u001b[0m \u001b[0;32mnot\u001b[0m \u001b[0;32min\u001b[0m \u001b[0mmode\u001b[0m\u001b[0;34m:\u001b[0m\u001b[0;34m\u001b[0m\u001b[0;34m\u001b[0m\u001b[0m\n\u001b[1;32m   1734\u001b[0m                     \u001b[0mmode\u001b[0m \u001b[0;34m+=\u001b[0m \u001b[0;34m\"b\"\u001b[0m\u001b[0;34m\u001b[0m\u001b[0;34m\u001b[0m\u001b[0m\n\u001b[0;32m-> 1735\u001b[0;31m             self.handles = get_handle(\n\u001b[0m\u001b[1;32m   1736\u001b[0m                 \u001b[0mf\u001b[0m\u001b[0;34m,\u001b[0m\u001b[0;34m\u001b[0m\u001b[0;34m\u001b[0m\u001b[0m\n\u001b[1;32m   1737\u001b[0m                 \u001b[0mmode\u001b[0m\u001b[0;34m,\u001b[0m\u001b[0;34m\u001b[0m\u001b[0;34m\u001b[0m\u001b[0m\n",
            "\u001b[0;32m/usr/local/lib/python3.10/dist-packages/pandas/io/common.py\u001b[0m in \u001b[0;36mget_handle\u001b[0;34m(path_or_buf, mode, encoding, compression, memory_map, is_text, errors, storage_options)\u001b[0m\n\u001b[1;32m    854\u001b[0m         \u001b[0;32mif\u001b[0m \u001b[0mioargs\u001b[0m\u001b[0;34m.\u001b[0m\u001b[0mencoding\u001b[0m \u001b[0;32mand\u001b[0m \u001b[0;34m\"b\"\u001b[0m \u001b[0;32mnot\u001b[0m \u001b[0;32min\u001b[0m \u001b[0mioargs\u001b[0m\u001b[0;34m.\u001b[0m\u001b[0mmode\u001b[0m\u001b[0;34m:\u001b[0m\u001b[0;34m\u001b[0m\u001b[0;34m\u001b[0m\u001b[0m\n\u001b[1;32m    855\u001b[0m             \u001b[0;31m# Encoding\u001b[0m\u001b[0;34m\u001b[0m\u001b[0;34m\u001b[0m\u001b[0m\n\u001b[0;32m--> 856\u001b[0;31m             handle = open(\n\u001b[0m\u001b[1;32m    857\u001b[0m                 \u001b[0mhandle\u001b[0m\u001b[0;34m,\u001b[0m\u001b[0;34m\u001b[0m\u001b[0;34m\u001b[0m\u001b[0m\n\u001b[1;32m    858\u001b[0m                 \u001b[0mioargs\u001b[0m\u001b[0;34m.\u001b[0m\u001b[0mmode\u001b[0m\u001b[0;34m,\u001b[0m\u001b[0;34m\u001b[0m\u001b[0;34m\u001b[0m\u001b[0m\n",
            "\u001b[0;31mFileNotFoundError\u001b[0m: [Errno 2] No such file or directory: '/content/drive/MyDrive/FindIT/training_set_features.csv'"
          ]
        }
      ]
    },
    {
      "cell_type": "code",
      "source": [
        "#shows how many feature are there\n",
        "print('This is the feature from datasets:\\n{}'.format(df_TrainingFeatures.columns.tolist()))\n",
        "print('\\nThis datasets has {} Feature'.format(len(df_TrainingFeatures.columns)))"
      ],
      "metadata": {
        "id": "GGxeAJRI67pq"
      },
      "execution_count": null,
      "outputs": []
    },
    {
      "cell_type": "code",
      "source": [
        "# Memeriksa tipe data dari tiap kolom\n",
        "print(df_TrainingFeatures.dtypes)"
      ],
      "metadata": {
        "id": "6wsabqMD7gYY"
      },
      "execution_count": null,
      "outputs": []
    },
    {
      "cell_type": "code",
      "source": [
        "# melihat kolom bertipe data object\n",
        "kolom = ['age_group', 'education', 'race', 'sex', 'income_poverty', 'marital_status', 'rent_or_own', 'employment_status', 'hhs_geo_region', 'census_msa', 'employment_industry', 'employment_occupation']\n",
        "df_TrainingFeatures[kolom].head()\n"
      ],
      "metadata": {
        "id": "IRo4mO4c7Yev"
      },
      "execution_count": null,
      "outputs": []
    },
    {
      "cell_type": "code",
      "source": [
        "from sklearn.preprocessing import LabelEncoder\n",
        "label_encoder = LabelEncoder()\n",
        "for kolom in df_TrainingFeatures[kolom].columns:\n",
        "    df_TrainingFeatures[kolom] = label_encoder.fit_transform(df_TrainingFeatures[kolom])\n"
      ],
      "metadata": {
        "id": "UGyRhNJp9Eq8"
      },
      "execution_count": null,
      "outputs": []
    },
    {
      "cell_type": "code",
      "source": [
        "# melihat kolom bertipe data object\n",
        "kolom = ['age_group', 'education', 'race', 'sex', 'income_poverty', 'marital_status', 'rent_or_own', 'employment_status', 'hhs_geo_region', 'census_msa', 'employment_industry', 'employment_occupation']\n",
        "df_TrainingFeatures[kolom].head()"
      ],
      "metadata": {
        "id": "y7AGxo9N-y3a"
      },
      "execution_count": null,
      "outputs": []
    },
    {
      "cell_type": "code",
      "source": [
        "# Mengecek apakah ada nilai yang hilang pada setiap kolom\n",
        "missing_data = df_TrainingFeatures.isna().any(axis=0)\n",
        "missing_data= missing_data[missing_data == True].index.tolist()\n",
        "# Mencetak nama kolom yang memiliki nilai hilang\n",
        "print(\"Kolom dengan nilai hilang: {}\".format(missing_data))\n"
      ],
      "metadata": {
        "id": "ORhTGSNy9CKo"
      },
      "execution_count": null,
      "outputs": []
    },
    {
      "cell_type": "code",
      "source": [
        "# Melihat baris yang hilang dari kolom tertentu\n",
        "def find_missing_rows(df, column_name):\n",
        "    # Mencari baris yang memiliki nilai hilang pada kolom tertentu\n",
        "    missing_data = df[column_name].isna()\n",
        "    missing_rows = df[missing_data]\n",
        "    missing_indices = missing_rows.index.tolist()\n",
        "    return missing_indices\n",
        "find_missing_rows(df_TrainingFeatures,missing_data[0])"
      ],
      "metadata": {
        "id": "3LDm6nXqCod6"
      },
      "execution_count": null,
      "outputs": []
    },
    {
      "cell_type": "code",
      "source": [
        "# Memeriksa tipe data dari variabel missing_data\n",
        "print(df_TrainingFeatures.dtypes)"
      ],
      "metadata": {
        "id": "dSQJ2cs5_RSY"
      },
      "execution_count": null,
      "outputs": []
    },
    {
      "cell_type": "code",
      "source": [
        "# Memilih kolom-kolom DataFrame yang memiliki tipe data numerik\n",
        "df_numerik = df_TrainingFeatures.select_dtypes(include=['int64', 'float64'])\n",
        "\n",
        "# Memeriksa DataFrame hasil pemilihan\n",
        "print(df_numerik.head())"
      ],
      "metadata": {
        "id": "7AVMHk0c_Dhc"
      },
      "execution_count": null,
      "outputs": []
    },
    {
      "cell_type": "code",
      "source": [
        "# Melihat jumlah nilai unik dalam setiap kolom\n",
        "print(df_numerik.nunique())"
      ],
      "metadata": {
        "id": "wkus12MRBVii"
      },
      "execution_count": null,
      "outputs": []
    },
    {
      "cell_type": "code",
      "source": [
        "# create correlation matrix\n",
        "corr = df_TrainingFeatures.corr()\n",
        "# Membuat heatmap\n",
        "fig, ax = plt.subplots(figsize=(15, 15)) # menambahkan figsize\n",
        "sns.heatmap(corr, cmap='coolwarm', annot=True, ax=ax)\n",
        "\n"
      ],
      "metadata": {
        "id": "_fYAfU4RKXRA"
      },
      "execution_count": null,
      "outputs": []
    },
    {
      "cell_type": "code",
      "source": [
        "# Cari nilai modus dari setiap kolom\n",
        "mode_values = df_TrainingFeatures.mode()\n",
        "df_TrainingFeatures.fillna(mode_values, inplace=True)"
      ],
      "metadata": {
        "id": "TALVwnE3TwB1",
        "outputId": "415b0fa4-5ce1-4dc1-dbbd-14f0c7af6016",
        "colab": {
          "base_uri": "https://localhost:8080/",
          "height": 207
        }
      },
      "execution_count": 7,
      "outputs": [
        {
          "output_type": "error",
          "ename": "NameError",
          "evalue": "ignored",
          "traceback": [
            "\u001b[0;31m---------------------------------------------------------------------------\u001b[0m",
            "\u001b[0;31mNameError\u001b[0m                                 Traceback (most recent call last)",
            "\u001b[0;32m<ipython-input-7-ff5f96e3d2fe>\u001b[0m in \u001b[0;36m<cell line: 2>\u001b[0;34m()\u001b[0m\n\u001b[1;32m      1\u001b[0m \u001b[0;31m# Cari nilai modus dari setiap kolom\u001b[0m\u001b[0;34m\u001b[0m\u001b[0;34m\u001b[0m\u001b[0m\n\u001b[0;32m----> 2\u001b[0;31m \u001b[0mmode_values\u001b[0m \u001b[0;34m=\u001b[0m \u001b[0mdf_TrainingFeatures\u001b[0m\u001b[0;34m.\u001b[0m\u001b[0mmode\u001b[0m\u001b[0;34m(\u001b[0m\u001b[0;34m)\u001b[0m\u001b[0;34m\u001b[0m\u001b[0;34m\u001b[0m\u001b[0m\n\u001b[0m\u001b[1;32m      3\u001b[0m \u001b[0mdf_TrainingFeatures\u001b[0m\u001b[0;34m.\u001b[0m\u001b[0mfillna\u001b[0m\u001b[0;34m(\u001b[0m\u001b[0mmode_values\u001b[0m\u001b[0;34m,\u001b[0m \u001b[0minplace\u001b[0m\u001b[0;34m=\u001b[0m\u001b[0;32mTrue\u001b[0m\u001b[0;34m)\u001b[0m\u001b[0;34m\u001b[0m\u001b[0;34m\u001b[0m\u001b[0m\n",
            "\u001b[0;31mNameError\u001b[0m: name 'df_TrainingFeatures' is not defined"
          ]
        }
      ]
    },
    {
      "cell_type": "code",
      "source": [
        "mode_values"
      ],
      "metadata": {
        "id": "i2HJzOo1VMQg"
      },
      "execution_count": null,
      "outputs": []
    },
    {
      "cell_type": "code",
      "source": [
        "df_TrainingFeatures.isnull()\n",
        "df_TrainingFeatures[df_TrainingFeatures == True].index.tolist()"
      ],
      "metadata": {
        "id": "KQazuSNzURBz"
      },
      "execution_count": null,
      "outputs": []
    },
    {
      "cell_type": "markdown",
      "source": [
        "# EDA (Explanatory Data Analysis)"
      ],
      "metadata": {
        "id": "3v4R-vVduCmH"
      }
    },
    {
      "cell_type": "code",
      "source": [
        "\n",
        "def visualize_data(df):\n",
        "    \"\"\"\n",
        "    Fungsi untuk menampilkan visualisasi banyaknya variabel pada setiap kolom dataframe.\n",
        "    \"\"\"\n",
        "    # Cek tipe data setiap kolom\n",
        "    column_types = df.dtypes\n",
        "\n",
        "    # Looping untuk setiap kolom\n",
        "    for column in df.columns:\n",
        "        # Hanya tampilkan visualisasi jika tipe datanya numerik\n",
        "        if column_types[column] in ['int64', 'float64']:\n",
        "            # Buat histogram\n",
        "            df[column].hist(bins=10)\n",
        "            plt.title(f'Histogram of {column}')\n",
        "            plt.show()\n",
        "visualize_data(df_TrainingFeatures)"
      ],
      "metadata": {
        "id": "3q9DhWSNV0yD"
      },
      "execution_count": null,
      "outputs": []
    },
    {
      "cell_type": "code",
      "source": [
        "print(df_TrainingFeatures.isnull().sum())"
      ],
      "metadata": {
        "id": "PjD22H1pW_qp"
      },
      "execution_count": null,
      "outputs": []
    },
    {
      "cell_type": "code",
      "source": [
        "df_TrainingFeatures.copy"
      ],
      "metadata": {
        "id": "sIletxJ6XodP"
      },
      "execution_count": null,
      "outputs": []
    },
    {
      "cell_type": "code",
      "source": [
        "df_TrainingFeatures = df_TrainingFeatures.fillna(df_TrainingFeatures.mode().iloc[0])\n",
        "\n",
        "# Cek missing value setelah diisi dengan modus\n",
        "print(df_TrainingFeatures.isnull().sum())"
      ],
      "metadata": {
        "id": "N2ac3JFqXu0h"
      },
      "execution_count": null,
      "outputs": []
    },
    {
      "cell_type": "code",
      "source": [
        "# Melihat semua kolom pada dataframe yang bukan numerik\n",
        "non_numeric_columns = df_TrainingFeatures.select_dtypes(exclude=['int64', 'float64']).columns\n",
        "\n",
        "print('Kolom yang bukan numerik:')\n",
        "df_TrainingFeatures[non_numeric_columns].nunique()\n"
      ],
      "metadata": {
        "id": "3dpxPNdoYfId"
      },
      "execution_count": null,
      "outputs": []
    },
    {
      "cell_type": "code",
      "source": [
        "df_TrainingFeatures['employment_occupation'].dtype"
      ],
      "metadata": {
        "id": "JUlSeQlDabV-"
      },
      "execution_count": null,
      "outputs": []
    },
    {
      "cell_type": "code",
      "source": [
        "df_TrainingLabels = pd.read_csv(TrainingLabels_path)\n",
        "df_TrainingLabels"
      ],
      "metadata": {
        "id": "xR74KZx2bkSv"
      },
      "execution_count": null,
      "outputs": []
    },
    {
      "cell_type": "markdown",
      "source": [
        "# Feature Enginering"
      ],
      "metadata": {
        "id": "FoZ9fSnSuSby"
      }
    },
    {
      "cell_type": "markdown",
      "source": [
        "# Feature Selection"
      ],
      "metadata": {
        "id": "frH-4_q8uWcx"
      }
    },
    {
      "cell_type": "code",
      "source": [
        "import numpy as np\n",
        "import random\n",
        "from sklearn.datasets import load_iris\n",
        "from sklearn.linear_model import LogisticRegression\n",
        "from sklearn.model_selection import cross_val_score\n",
        "\n",
        "def objective_function(X, y, feature_subset):\n",
        "    model = LogisticRegression()\n",
        "    scores = cross_val_score(model, X[:, feature_subset], y, cv=5)\n",
        "    return np.mean(scores)\n",
        "\n",
        "def binary_bat_algorithm(X, y, n_bats=10, n_iterations=100, a=0.9, r0=0.5):\n",
        "    n_features = X.shape[1]\n",
        "    bats = np.random.randint(0, 2, (n_bats, n_features))\n",
        "    velocities = np.random.uniform(-1, 1, (n_bats, n_features))\n",
        "    frequencies = np.random.uniform(0, 2, n_bats)\n",
        "    best_bat = bats[np.argmax([objective_function(X, y, bat) for bat in bats])]\n",
        "\n",
        "    for _ in range(n_iterations):\n",
        "        for i, bat in enumerate(bats):\n",
        "            velocities[i] += (bat - best_bat) * frequencies[i]\n",
        "            new_bat = (bat + velocities[i]).clip(0, 1)\n",
        "            new_bat = (np.random.rand(n_features) < new_bat).astype(int)\n",
        "\n",
        "            if objective_function(X, y, new_bat) > objective_function(X, y, bat):\n",
        "                bats[i] = new_bat\n",
        "\n",
        "            if np.random.rand() > r0:\n",
        "                new_bat = best_bat + np.random.uniform(-a, a, n_features)\n",
        "                new_bat = (np.random.rand(n_features) < new_bat).astype(int)\n",
        "\n",
        "                if objective_function(X, y, new_bat) > objective_function(X, y, bat):\n",
        "                    bats[i] = new_bat\n",
        "\n",
        "        best_bat = bats[np.argmax([objective_function(X, y, bat) for bat in bats])]\n",
        "\n",
        "    return best_bat\n",
        "\n"
      ],
      "metadata": {
        "id": "OpLnwj6aWPgh"
      },
      "execution_count": null,
      "outputs": []
    },
    {
      "cell_type": "code",
      "source": [
        "df_TrainingLabels['h1n1_vaccine']"
      ],
      "metadata": {
        "id": "iCumXWeVjxrH"
      },
      "execution_count": null,
      "outputs": []
    },
    {
      "cell_type": "code",
      "source": [
        "X, y = df_TrainingFeatures.values, df_TrainingLabels['h1n1_vaccine'].values\n",
        "selected_features = binary_bat_algorithm(X, y)\n",
        "print(\"Selected features:\", selected_features)"
      ],
      "metadata": {
        "id": "dJ-shWISiI3X"
      },
      "execution_count": null,
      "outputs": []
    },
    {
      "cell_type": "code",
      "source": [
        "unique_classes = df_TrainingLabels['h1n1_vaccine'].unique()\n",
        "num_classes = len(unique_classes)\n",
        "print(num_classes)"
      ],
      "metadata": {
        "id": "23XEDjN7CZtP"
      },
      "execution_count": null,
      "outputs": []
    },
    {
      "cell_type": "markdown",
      "source": [
        "# Modeling"
      ],
      "metadata": {
        "id": "ygqixao2uZ5S"
      }
    },
    {
      "cell_type": "markdown",
      "source": [
        "xgboost standard"
      ],
      "metadata": {
        "id": "lixWVDVp6Q4t"
      }
    },
    {
      "cell_type": "code",
      "source": [
        " pip install xgboost"
      ],
      "metadata": {
        "id": "GACEpxpI6Sub"
      },
      "execution_count": null,
      "outputs": []
    },
    {
      "cell_type": "code",
      "source": [
        "X.head()"
      ],
      "metadata": {
        "id": "uafFoGyq2tKN"
      },
      "execution_count": null,
      "outputs": []
    },
    {
      "cell_type": "code",
      "source": [
        "import xgboost as xgb\n",
        "from sklearn.model_selection import train_test_split\n",
        "\n",
        "X_train, X_test, Y_train, Y_test = train_test_split(X, y, test_size=0.2)\n"
      ],
      "metadata": {
        "id": "jpA2agvb6lzp"
      },
      "execution_count": null,
      "outputs": []
    },
    {
      "cell_type": "code",
      "source": [
        "D_train = xgb.DMatrix(X_train, label=Y_train)\n",
        "D_test = xgb.DMatrix(X_test, label=Y_test)"
      ],
      "metadata": {
        "id": "FEu7k8z98hLC"
      },
      "execution_count": null,
      "outputs": []
    },
    {
      "cell_type": "code",
      "source": [
        "param = {\n",
        "    'eta': 0.3, \n",
        "    'max_depth': 3,  \n",
        "    'objective': 'multi:softprob',  \n",
        "    'num_class': 2} \n",
        "\n",
        "steps = 99  # The number of training iterations"
      ],
      "metadata": {
        "id": "ny6U_9HO8lX7"
      },
      "execution_count": null,
      "outputs": []
    },
    {
      "cell_type": "code",
      "source": [
        "model = xgb.train(param, D_train, steps)"
      ],
      "metadata": {
        "id": "ePYO4CUE8oSU"
      },
      "execution_count": null,
      "outputs": []
    },
    {
      "cell_type": "code",
      "source": [
        "import numpy as np\n",
        "from sklearn.metrics import precision_score, recall_score, accuracy_score\n",
        "\n",
        "preds = model.predict(X_test)\n",
        "best_preds = np.asarray([np.argmax(line) for line in preds])\n",
        "\n",
        "print(\"Precision = {}\".format(precision_score(Y_test, best_preds, average='macro')))\n",
        "print(\"Recall = {}\".format(recall_score(Y_test, best_preds, average='macro')))\n",
        "print(\"Accuracy = {}\".format(accuracy_score(Y_test, best_preds)))"
      ],
      "metadata": {
        "id": "9g6_DQvh8qrF"
      },
      "execution_count": null,
      "outputs": []
    },
    {
      "cell_type": "markdown",
      "source": [
        "# Evaluating"
      ],
      "metadata": {
        "id": "wFw5QHwFucJG"
      }
    },
    {
      "cell_type": "code",
      "source": [],
      "metadata": {
        "id": "tVO161XJ8gft"
      },
      "execution_count": null,
      "outputs": []
    },
    {
      "cell_type": "markdown",
      "source": [],
      "metadata": {
        "id": "ML2T1Y-O6R46"
      }
    }
  ]
}